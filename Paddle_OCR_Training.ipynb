{
 "cells": [
  {
   "cell_type": "markdown",
   "metadata": {},
   "source": [
    "# Prequisites"
   ]
  },
  {
   "cell_type": "code",
   "execution_count": 1,
   "metadata": {},
   "outputs": [],
   "source": [
    "import cv2 \n",
    "import os \n",
    "#from imutils import perspective\n",
    "import numpy as np \n",
    "import json\n",
    "from tqdm import tqdm\n",
    "import matplotlib.pyplot as plt\n",
    "from imutils import perspective"
   ]
  },
  {
   "cell_type": "markdown",
   "metadata": {},
   "source": [
    "# Detector Training"
   ]
  },
  {
   "cell_type": "code",
   "execution_count": 2,
   "metadata": {},
   "outputs": [
    {
     "name": "stdout",
     "output_type": "stream",
     "text": [
      "Number of Training images are 3\n"
     ]
    }
   ],
   "source": [
    "print(\"Number of Training images are\", len(os.listdir(\"Total-Text\")))"
   ]
  },
  {
   "cell_type": "code",
   "execution_count": 3,
   "metadata": {},
   "outputs": [
    {
     "name": "stderr",
     "output_type": "stream",
     "text": [
      "100%|██████████| 50/50 [00:00<00:00, 1218.35it/s]"
     ]
    },
    {
     "name": "stdout",
     "output_type": "stream",
     "text": [
      "Total number of Annotations created for Training are  44\n"
     ]
    },
    {
     "name": "stderr",
     "output_type": "stream",
     "text": [
      "\n"
     ]
    }
   ],
   "source": [
    "# Preparing Training Annotation Text file\n",
    "\n",
    "count = 0\n",
    "flag = 1\n",
    "for i in tqdm(os.listdir(\"Total-Text/Train\")):\n",
    "  img_path = os.path.join(\"Total-Text/Train\", i)\n",
    "  bounding_box_path = os.path.join(\"Total-Text/Annotation/groundtruth_polygonal_annotation/Train\", \"poly_gt_\"+i.split(\".\")[0]+\".txt\")\n",
    "  var = open(bounding_box_path, \"r\")\n",
    "  var = var.readlines()\n",
    "  lis = []\n",
    "  for j in var:\n",
    "    try:\n",
    "      j = j.replace(\"\\n\", '')\n",
    "      x_coordinates = j.split(\",\")[0].split(\"[\")[2].split(\"]\")[0].split(\" \")\n",
    "      y_coordinates = j.split(\",\")[1].split(\"[\")[2].split(\"]\")[0].split(\" \")\n",
    "      if(len(x_coordinates) != 4 or len(y_coordinates)!=4):\n",
    "        continue\n",
    "      #text = j.split(\",\")[3].split(\"[\")[1].split(\"'\")[1]\n",
    "      if(j.split(\" \")[-1]==\"[]\"):\n",
    "        continue\n",
    "      text = j.split(\" \")[-1].split(\"'\")[1]\n",
    "      if(\"#\" in text):\n",
    "        text = \"###\"\n",
    "      x1, x2, x3, x4 = x_coordinates[0], x_coordinates[1], x_coordinates[2], x_coordinates[3]\n",
    "      y1, y2, y3, y4 = y_coordinates[0], y_coordinates[1], y_coordinates[2], y_coordinates[3] \n",
    "      dic = {}\n",
    "      dic[\"points\"] = [[x1,y1], [x2,y2], [x3,y3], [x4,y4]]  \n",
    "      dic[\"transcription\"] = str(text)\n",
    "      lis.append(dic)\n",
    "    except:\n",
    "      flag = 0\n",
    "  lis = json.dumps(lis)\n",
    "  if(flag == 0):\n",
    "    flag = 1\n",
    "    continue\n",
    "  if(lis == [] or lis==\"[]\"):\n",
    "    continue\n",
    "  with open(\"train.txt\", \"a\") as ob:\n",
    "    ob.write(img_path.replace(\"Total-Text/Train\\\\\",\"./\")+\"\\t\"+str(lis)+\"\\n\")\n",
    "  count = count + 1\n",
    "\n",
    "print(\"Total number of Annotations created for Training are \", count)"
   ]
  },
  {
   "cell_type": "code",
   "execution_count": 21,
   "metadata": {},
   "outputs": [
    {
     "name": "stderr",
     "output_type": "stream",
     "text": [
      "100%|██████████| 20/20 [00:00<00:00, 941.73it/s]"
     ]
    },
    {
     "name": "stdout",
     "output_type": "stream",
     "text": [
      "Total number of Annotations created for Test/Eval are  11\n"
     ]
    },
    {
     "name": "stderr",
     "output_type": "stream",
     "text": [
      "\n"
     ]
    }
   ],
   "source": [
    "# Preparing Testing/Validation Annotation Text file\n",
    "\n",
    "count = 0\n",
    "flag = 1\n",
    "for i in tqdm(os.listdir(\"Total-Text/Test\")):\n",
    "  img_path = os.path.join(\"Total-Text/Test\", i)\n",
    "  bounding_box_path = os.path.join(\"Total-Text/Annotation/groundtruth_polygonal_annotation/Test\", \"poly_gt_\"+i.split(\".\")[0]+\".txt\")\n",
    "  var = open(bounding_box_path, \"r\")\n",
    "  var = var.readlines()\n",
    "  lis = []\n",
    "  for j in var:\n",
    "    try:\n",
    "      j = j.replace(\"\\n\", '')\n",
    "      x_coordinates = j.split(\",\")[0].split(\"[\")[2].split(\"]\")[0].split(\" \")\n",
    "      y_coordinates = j.split(\",\")[1].split(\"[\")[2].split(\"]\")[0].split(\" \")\n",
    "      if(len(x_coordinates) != 4 or len(y_coordinates)!=4):\n",
    "        continue\n",
    "      #text = j.split(\",\")[3].split(\"[\")[1].split(\"'\")[1]\n",
    "      if(j.split(\" \")[-1]==\"[]\"):\n",
    "        continue\n",
    "      text = j.split(\" \")[-1].split(\"'\")[1]\n",
    "      if(\"#\" in text):\n",
    "        text = \"###\"\n",
    "      x1, x2, x3, x4 = x_coordinates[0], x_coordinates[1], x_coordinates[2], x_coordinates[3]\n",
    "      y1, y2, y3, y4 = y_coordinates[0], y_coordinates[1], y_coordinates[2], y_coordinates[3] \n",
    "      dic = {}\n",
    "      dic[\"points\"] = [[x1,y1], [x2,y2], [x3,y3], [x4,y4]]  \n",
    "      dic[\"transcription\"] = str(text)\n",
    "      lis.append(dic)\n",
    "    except:\n",
    "      flag = 0\n",
    "  lis = json.dumps(lis)\n",
    "  if(flag == 0):\n",
    "    flag = 1\n",
    "    continue\n",
    "  if(lis == [] or lis==\"[]\"):\n",
    "\n",
    "    continue\n",
    "  with open(\"test.txt\", \"a\") as ob:\n",
    "    ob.write(img_path.replace(\"Total-Text/Test\\\\\",\"./\")+\"\\t\"+str(lis)+\"\\n\")\n",
    "  count = count + 1\n",
    "\n",
    "print(\"Total number of Annotations created for Test/Eval are \", count)"
   ]
  },
  {
   "cell_type": "code",
   "execution_count": 5,
   "metadata": {},
   "outputs": [
    {
     "data": {
      "text/plain": [
       "'c:\\\\Users\\\\Bambang Hartono S\\\\Documents\\\\PaddleOCR'"
      ]
     },
     "execution_count": 5,
     "metadata": {},
     "output_type": "execute_result"
    }
   ],
   "source": [
    "import os\n",
    "os.getcwd()"
   ]
  },
  {
   "cell_type": "code",
   "execution_count": 6,
   "metadata": {},
   "outputs": [],
   "source": [
    "# import wget\n",
    "# wget.download(\"https://paddleocr.bj.bcebos.com/pretrained/MobileNetV3_large_x0_5_pretrained.pdparams\", \"c:\\\\Users\\\\Bambang Hartono S\\\\Documents\\\\PaddleOCR\\\\pretain_models\" )"
   ]
  },
  {
   "cell_type": "code",
   "execution_count": 7,
   "metadata": {},
   "outputs": [
    {
     "data": {
      "text/plain": [
       "['en_PP-OCRv3_rec_train', 'MobileNetV3_large_x0_5_pretrained.pdparams']"
      ]
     },
     "execution_count": 7,
     "metadata": {},
     "output_type": "execute_result"
    }
   ],
   "source": [
    "os.listdir(\"./pretrain_models/\")"
   ]
  },
  {
   "cell_type": "code",
   "execution_count": 48,
   "metadata": {},
   "outputs": [],
   "source": [
    "#Multi-GPU Training\n",
    "# !python3 -m paddle.distributed.launch --gpus '0,1'  tools/train.py -c configs/det/det_mv3_db.yml -o Global.pretrained_model=./pretrain_models/MobileNetV3_large_x0_5_pretrained"
   ]
  },
  {
   "cell_type": "code",
   "execution_count": 63,
   "metadata": {},
   "outputs": [
    {
     "name": "stdout",
     "output_type": "stream",
     "text": [
      "[2023/12/14 14:58:09] ppocr INFO: Architecture : \n",
      "[2023/12/14 14:58:09] ppocr INFO:     Backbone : \n",
      "[2023/12/14 14:58:09] ppocr INFO:         model_name : large\n",
      "[2023/12/14 14:58:09] ppocr INFO:         name : MobileNetV3\n",
      "[2023/12/14 14:58:09] ppocr INFO:         scale : 0.5\n",
      "[2023/12/14 14:58:09] ppocr INFO:     Head : \n",
      "[2023/12/14 14:58:09] ppocr INFO:         k : 50\n",
      "[2023/12/14 14:58:09] ppocr INFO:         name : DBHead\n",
      "[2023/12/14 14:58:09] ppocr INFO:     Neck : \n",
      "[2023/12/14 14:58:09] ppocr INFO:         name : DBFPN\n",
      "[2023/12/14 14:58:09] ppocr INFO:         out_channels : 256\n",
      "[2023/12/14 14:58:09] ppocr INFO:     Transform : None\n",
      "[2023/12/14 14:58:09] ppocr INFO:     algorithm : DB\n",
      "[2023/12/14 14:58:09] ppocr INFO:     model_type : det\n",
      "[2023/12/14 14:58:09] ppocr INFO: Eval : \n",
      "[2023/12/14 14:58:09] ppocr INFO:     dataset : \n",
      "[2023/12/14 14:58:09] ppocr INFO:         data_dir : ./Total-Text/Test/\n",
      "[2023/12/14 14:58:09] ppocr INFO:         label_file_list : ['test.txt']\n",
      "[2023/12/14 14:58:09] ppocr INFO:         name : SimpleDataSet\n",
      "[2023/12/14 14:58:09] ppocr INFO:         transforms : \n",
      "[2023/12/14 14:58:09] ppocr INFO:             DecodeImage : \n",
      "[2023/12/14 14:58:09] ppocr INFO:                 channel_first : False\n",
      "[2023/12/14 14:58:09] ppocr INFO:                 img_mode : BGR\n",
      "[2023/12/14 14:58:09] ppocr INFO:             DetLabelEncode : None\n",
      "[2023/12/14 14:58:09] ppocr INFO:             DetResizeForTest : \n",
      "[2023/12/14 14:58:09] ppocr INFO:                 image_shape : [736, 1280]\n",
      "[2023/12/14 14:58:09] ppocr INFO:             NormalizeImage : \n",
      "[2023/12/14 14:58:09] ppocr INFO:                 mean : [0.485, 0.456, 0.406]\n",
      "[2023/12/14 14:58:09] ppocr INFO:                 order : hwc\n",
      "[2023/12/14 14:58:09] ppocr INFO:                 scale : 1./255.\n",
      "[2023/12/14 14:58:09] ppocr INFO:                 std : [0.229, 0.224, 0.225]\n",
      "[2023/12/14 14:58:09] ppocr INFO:             ToCHWImage : None\n",
      "[2023/12/14 14:58:09] ppocr INFO:             KeepKeys : \n",
      "[2023/12/14 14:58:09] ppocr INFO:                 keep_keys : ['image', 'shape', 'polys', 'ignore_tags']\n",
      "[2023/12/14 14:58:09] ppocr INFO:     loader : \n",
      "[2023/12/14 14:58:09] ppocr INFO:         batch_size_per_card : 1\n",
      "[2023/12/14 14:58:09] ppocr INFO:         drop_last : False\n",
      "[2023/12/14 14:58:09] ppocr INFO:         num_workers : 8\n",
      "[2023/12/14 14:58:09] ppocr INFO:         shuffle : False\n",
      "[2023/12/14 14:58:09] ppocr INFO:         use_shared_memory : True\n",
      "[2023/12/14 14:58:09] ppocr INFO: Global : \n",
      "[2023/12/14 14:58:09] ppocr INFO:     cal_metric_during_train : False\n",
      "[2023/12/14 14:58:09] ppocr INFO:     checkpoints : None\n",
      "[2023/12/14 14:58:09] ppocr INFO:     distributed : False\n",
      "[2023/12/14 14:58:09] ppocr INFO:     epoch_num : 5\n",
      "[2023/12/14 14:58:09] ppocr INFO:     eval_batch_step : [0, 2000]\n",
      "[2023/12/14 14:58:09] ppocr INFO:     infer_img : doc/imgs_en/img_10.jpg\n",
      "[2023/12/14 14:58:09] ppocr INFO:     log_smooth_window : 20\n",
      "[2023/12/14 14:58:09] ppocr INFO:     pretrained_model : ./pretrain_models/MobileNetV3_large_x0_5_pretrained\n",
      "[2023/12/14 14:58:09] ppocr INFO:     print_batch_step : 10\n",
      "[2023/12/14 14:58:09] ppocr INFO:     save_epoch_step : 1200\n",
      "[2023/12/14 14:58:09] ppocr INFO:     save_inference_dir : None\n",
      "[2023/12/14 14:58:09] ppocr INFO:     save_model_dir : ./output/db_mv3\n",
      "[2023/12/14 14:58:09] ppocr INFO:     save_res_path : ./output/det_db/predicts_db.txt\n",
      "[2023/12/14 14:58:09] ppocr INFO:     use_gpu : False\n",
      "[2023/12/14 14:58:09] ppocr INFO:     use_mlu : False\n",
      "[2023/12/14 14:58:09] ppocr INFO:     use_visualdl : False\n",
      "[2023/12/14 14:58:09] ppocr INFO:     use_xpu : False\n",
      "[2023/12/14 14:58:09] ppocr INFO: Loss : \n",
      "[2023/12/14 14:58:09] ppocr INFO:     alpha : 5\n",
      "[2023/12/14 14:58:09] ppocr INFO:     balance_loss : True\n",
      "[2023/12/14 14:58:09] ppocr INFO:     beta : 10\n",
      "[2023/12/14 14:58:09] ppocr INFO:     main_loss_type : DiceLoss\n",
      "[2023/12/14 14:58:09] ppocr INFO:     name : DBLoss\n",
      "[2023/12/14 14:58:09] ppocr INFO:     ohem_ratio : 3\n",
      "[2023/12/14 14:58:09] ppocr INFO: Metric : \n",
      "[2023/12/14 14:58:09] ppocr INFO:     main_indicator : hmean\n",
      "[2023/12/14 14:58:09] ppocr INFO:     name : DetMetric\n",
      "[2023/12/14 14:58:09] ppocr INFO: Optimizer : \n",
      "[2023/12/14 14:58:09] ppocr INFO:     beta1 : 0.9\n",
      "[2023/12/14 14:58:09] ppocr INFO:     beta2 : 0.999\n",
      "[2023/12/14 14:58:09] ppocr INFO:     lr : \n",
      "[2023/12/14 14:58:09] ppocr INFO:         learning_rate : 0.001\n",
      "[2023/12/14 14:58:09] ppocr INFO:     name : Adam\n",
      "[2023/12/14 14:58:09] ppocr INFO:     regularizer : \n",
      "[2023/12/14 14:58:09] ppocr INFO:         factor : 0\n",
      "[2023/12/14 14:58:09] ppocr INFO:         name : L2\n",
      "[2023/12/14 14:58:09] ppocr INFO: PostProcess : \n",
      "[2023/12/14 14:58:09] ppocr INFO:     box_thresh : 0.6\n",
      "[2023/12/14 14:58:09] ppocr INFO:     max_candidates : 1000\n",
      "[2023/12/14 14:58:09] ppocr INFO:     name : DBPostProcess\n",
      "[2023/12/14 14:58:09] ppocr INFO:     thresh : 0.3\n",
      "[2023/12/14 14:58:09] ppocr INFO:     unclip_ratio : 1.5\n",
      "[2023/12/14 14:58:09] ppocr INFO: Train : \n",
      "[2023/12/14 14:58:09] ppocr INFO:     dataset : \n",
      "[2023/12/14 14:58:09] ppocr INFO:         data_dir : ./Total-Text/Train/\n",
      "[2023/12/14 14:58:09] ppocr INFO:         label_file_list : ['train.txt']\n",
      "[2023/12/14 14:58:09] ppocr INFO:         name : SimpleDataSet\n",
      "[2023/12/14 14:58:09] ppocr INFO:         ratio_list : [1.0]\n",
      "[2023/12/14 14:58:09] ppocr INFO:         transforms : \n",
      "[2023/12/14 14:58:09] ppocr INFO:             DecodeImage : \n",
      "[2023/12/14 14:58:09] ppocr INFO:                 channel_first : False\n",
      "[2023/12/14 14:58:09] ppocr INFO:                 img_mode : BGR\n",
      "[2023/12/14 14:58:09] ppocr INFO:             DetLabelEncode : None\n",
      "[2023/12/14 14:58:09] ppocr INFO:             IaaAugment : \n",
      "[2023/12/14 14:58:09] ppocr INFO:                 augmenter_args : \n",
      "[2023/12/14 14:58:09] ppocr INFO:                     args : \n",
      "[2023/12/14 14:58:09] ppocr INFO:                         p : 0.5\n",
      "[2023/12/14 14:58:09] ppocr INFO:                     type : Fliplr\n",
      "[2023/12/14 14:58:09] ppocr INFO:                     args : \n",
      "[2023/12/14 14:58:09] ppocr INFO:                         rotate : [-10, 10]\n",
      "[2023/12/14 14:58:09] ppocr INFO:                     type : Affine\n",
      "[2023/12/14 14:58:09] ppocr INFO:                     args : \n",
      "[2023/12/14 14:58:09] ppocr INFO:                         size : [0.5, 3]\n",
      "[2023/12/14 14:58:09] ppocr INFO:                     type : Resize\n",
      "[2023/12/14 14:58:09] ppocr INFO:             EastRandomCropData : \n",
      "[2023/12/14 14:58:09] ppocr INFO:                 keep_ratio : True\n",
      "[2023/12/14 14:58:09] ppocr INFO:                 max_tries : 50\n",
      "[2023/12/14 14:58:09] ppocr INFO:                 size : [640, 640]\n",
      "[2023/12/14 14:58:09] ppocr INFO:             MakeBorderMap : \n",
      "[2023/12/14 14:58:09] ppocr INFO:                 shrink_ratio : 0.4\n",
      "[2023/12/14 14:58:09] ppocr INFO:                 thresh_max : 0.7\n",
      "[2023/12/14 14:58:09] ppocr INFO:                 thresh_min : 0.3\n",
      "[2023/12/14 14:58:09] ppocr INFO:             MakeShrinkMap : \n",
      "[2023/12/14 14:58:09] ppocr INFO:                 min_text_size : 8\n",
      "[2023/12/14 14:58:09] ppocr INFO:                 shrink_ratio : 0.4\n",
      "[2023/12/14 14:58:09] ppocr INFO:             NormalizeImage : \n",
      "[2023/12/14 14:58:09] ppocr INFO:                 mean : [0.485, 0.456, 0.406]\n",
      "[2023/12/14 14:58:09] ppocr INFO:                 order : hwc\n",
      "[2023/12/14 14:58:09] ppocr INFO:                 scale : 1./255.\n",
      "[2023/12/14 14:58:09] ppocr INFO:                 std : [0.229, 0.224, 0.225]\n",
      "[2023/12/14 14:58:09] ppocr INFO:             ToCHWImage : None\n",
      "[2023/12/14 14:58:09] ppocr INFO:             KeepKeys : \n",
      "[2023/12/14 14:58:09] ppocr INFO:                 keep_keys : ['image', 'threshold_map', 'threshold_mask', 'shrink_map', 'shrink_mask']\n",
      "[2023/12/14 14:58:09] ppocr INFO:     loader : \n",
      "[2023/12/14 14:58:09] ppocr INFO:         batch_size_per_card : 16\n",
      "[2023/12/14 14:58:09] ppocr INFO:         drop_last : False\n",
      "[2023/12/14 14:58:09] ppocr INFO:         num_workers : 8\n",
      "[2023/12/14 14:58:09] ppocr INFO:         shuffle : True\n",
      "[2023/12/14 14:58:09] ppocr INFO:         use_shared_memory : True\n",
      "[2023/12/14 14:58:09] ppocr INFO: profiler_options : None\n",
      "[2023/12/14 14:58:09] ppocr INFO: train with paddle 2.5.2 and device Place(cpu)\n",
      "[2023/12/14 14:58:09] ppocr INFO: Initialize indexs of datasets:['train.txt']\n",
      "[2023/12/14 14:58:09] ppocr INFO: Initialize indexs of datasets:['test.txt']\n",
      "[2023/12/14 14:58:09] ppocr INFO: train dataloader has 3 iters\n",
      "[2023/12/14 14:58:09] ppocr INFO: valid dataloader has 11 iters\n",
      "[2023/12/14 14:58:09] ppocr INFO: load pretrain successful from ./pretrain_models/MobileNetV3_large_x0_5_pretrained\n",
      "[2023/12/14 14:58:09] ppocr INFO: During the training process, after the 0th iteration, an evaluation is run every 2000 iterations\n",
      "[2023/12/14 15:04:02] ppocr INFO: save model in ./output/db_mv3\\latest\n",
      "[2023/12/14 15:09:48] ppocr INFO: save model in ./output/db_mv3\\latest\n",
      "[2023/12/14 15:15:08] ppocr INFO: save model in ./output/db_mv3\\latest\n",
      "[2023/12/14 15:20:55] ppocr INFO: save model in ./output/db_mv3\\latest\n",
      "[2023/12/14 15:26:53] ppocr INFO: epoch: [5/5], global_step: 10, lr: 0.001000, loss: 7.651937, loss_shrink_maps: 4.816996, loss_threshold_maps: 1.965235, loss_binary_maps: 0.966563, loss_cbn: 0.000000, avg_reader_cost: 0.75036 s, avg_batch_cost: 172.41184 s, avg_samples: 16.0, ips: 0.09280 samples/s, eta: 0:02:52\n",
      "[2023/12/14 15:26:53] ppocr INFO: save model in ./output/db_mv3\\latest\n",
      "[2023/12/14 15:26:53] ppocr INFO: best metric, hmean: 0, is_float16: False\n"
     ]
    }
   ],
   "source": [
    "!python tools/train.py -c configs/det/det_mv3_db.yml  \\\n",
    "         -o Global.pretrained_model=./pretrain_models/MobileNetV3_large_x0_5_pretrained "
   ]
  },
  {
   "cell_type": "markdown",
   "metadata": {},
   "source": [
    "# Recognizer Training"
   ]
  },
  {
   "cell_type": "code",
   "execution_count": 35,
   "metadata": {},
   "outputs": [
    {
     "name": "stderr",
     "output_type": "stream",
     "text": [
      "100%|██████████| 50/50 [00:05<00:00,  9.59it/s]"
     ]
    },
    {
     "name": "stdout",
     "output_type": "stream",
     "text": [
      "Total number of Annotations created for Training are  50\n"
     ]
    },
    {
     "name": "stderr",
     "output_type": "stream",
     "text": [
      "\n"
     ]
    }
   ],
   "source": [
    "# Preparing the Training Annotation File and images\n",
    "\n",
    "count = 0\n",
    "flag = 1\n",
    "img_counter = 0\n",
    "for i in tqdm(os.listdir(\"Total-Text/Train\")):\n",
    "  img_path = os.path.join(\"Total-Text/Train\", i)\n",
    "  bounding_box_path = os.path.join(\"Total-Text/Annotation/groundtruth_polygonal_annotation/Train\", \"poly_gt_\"+i.split(\".\")[0]+\".txt\")\n",
    "  var = open(bounding_box_path, \"r\")\n",
    "  var = var.readlines()\n",
    "  lis = []\n",
    "  \n",
    "  for j in var:\n",
    "    try:\n",
    "      j = j.replace(\"\\n\", '')\n",
    "      x_coordinates = j.split(\",\")[0].split(\"[\")[2].split(\"]\")[0].split(\" \")\n",
    "      y_coordinates = j.split(\",\")[1].split(\"[\")[2].split(\"]\")[0].split(\" \")\n",
    "      if(len(x_coordinates) != 4 or len(y_coordinates)!=4):\n",
    "        continue\n",
    "      #text = j.split(\",\")[3].split(\"[\")[1].split(\"'\")[1]\n",
    "      if(j.split(\" \")[-1]==\"[]\"):\n",
    "        continue\n",
    "      text = j.split(\" \")[-1].split(\"'\")[1]\n",
    "      if(\"#\" in text):\n",
    "        text = \"###\"\n",
    "      x1, x2, x3, x4 = x_coordinates[0], x_coordinates[1], x_coordinates[2], x_coordinates[3]\n",
    "      y1, y2, y3, y4 = y_coordinates[0], y_coordinates[1], y_coordinates[2], y_coordinates[3] \n",
    "      dic = {}\n",
    "      dic[\"points\"] = [[x1,y1], [x2,y2], [x3,y3], [x4,y4]]  \n",
    "      dic[\"transcription\"] = str(text)\n",
    "      lis.append(dic)\n",
    "      x1,y1,x2,y2,x3,y3,x4,y4 = int(x1), int(y1), int(x2), int(y2), int(x3), int(y3), int(x4), int(x4)\n",
    "      pts=np.asarray([(x1,y1), (x2,y2), (x3,y3), (x4,y4)])\n",
    "      img=cv2.imread(img_path)\n",
    "      warped = perspective.four_point_transform(img, pts)\n",
    "      new_img_path = \"./crnn_train/img_\"+str(img_counter)+\".png\"\n",
    "      cv2.imwrite(new_img_path, warped)\n",
    "      with open(\"rec_train.txt\", \"a\") as ob:\n",
    "        ob.write(new_img_path.replace(\"crnn_train\",\".\")+\"\\t\"+text+\"\\n\")\n",
    "      img_counter = img_counter + 1\n",
    "    except:\n",
    "      flag = 0\n",
    "  if(flag == 0):\n",
    "    flag = 1\n",
    "    continue\n",
    "  count = count + 1\n",
    "print(\"Total number of Annotations created for Training are \", count)"
   ]
  },
  {
   "cell_type": "code",
   "execution_count": 36,
   "metadata": {},
   "outputs": [
    {
     "data": {
      "text/plain": [
       "'c:\\\\Users\\\\Bambang Hartono S\\\\Documents\\\\PaddleOCR'"
      ]
     },
     "execution_count": 36,
     "metadata": {},
     "output_type": "execute_result"
    }
   ],
   "source": [
    "os.getcwd()"
   ]
  },
  {
   "cell_type": "code",
   "execution_count": 37,
   "metadata": {},
   "outputs": [
    {
     "name": "stderr",
     "output_type": "stream",
     "text": [
      "  0%|          | 0/20 [00:00<?, ?it/s]"
     ]
    },
    {
     "name": "stderr",
     "output_type": "stream",
     "text": [
      "100%|██████████| 20/20 [00:01<00:00, 10.58it/s]"
     ]
    },
    {
     "name": "stdout",
     "output_type": "stream",
     "text": [
      "Total number of Annotations created for Test/Eval are  20\n"
     ]
    },
    {
     "name": "stderr",
     "output_type": "stream",
     "text": [
      "\n"
     ]
    }
   ],
   "source": [
    "# Preparing the Testing/Eval Annotation File and images\n",
    "count = 0\n",
    "flag = 1\n",
    "img_counter = 0\n",
    "for i in tqdm(os.listdir(\"Total-Text/Test\")):\n",
    "  img_path = os.path.join(\"Total-Text/Test\", i)\n",
    "  bounding_box_path = os.path.join(\"Total-Text/Annotation/groundtruth_polygonal_annotation/Test\", \"poly_gt_\"+i.split(\".\")[0]+\".txt\")\n",
    "  var = open(bounding_box_path, \"r\")\n",
    "  var = var.readlines()\n",
    "  lis=[]\n",
    "  for j in var:\n",
    "    try:\n",
    "      j = j.replace(\"\\n\", '')\n",
    "      x_coordinates = j.split(\",\")[0].split(\"[\")[2].split(\"]\")[0].split(\" \")\n",
    "      y_coordinates = j.split(\",\")[1].split(\"[\")[2].split(\"]\")[0].split(\" \")\n",
    "      if(len(x_coordinates) != 4 or len(y_coordinates)!=4):\n",
    "        continue\n",
    "      #text = j.split(\",\")[3].split(\"[\")[1].split(\"'\")[1]\n",
    "      if(j.split(\" \")[-1]==\"[]\"):\n",
    "        continue\n",
    "      text = j.split(\" \")[-1].split(\"'\")[1]\n",
    "      if(\"#\" in text):\n",
    "        text = \"###\"\n",
    "      x1, x2, x3, x4 = x_coordinates[0], x_coordinates[1], x_coordinates[2], x_coordinates[3]\n",
    "      y1, y2, y3, y4 = y_coordinates[0], y_coordinates[1], y_coordinates[2], y_coordinates[3] \n",
    "      dic = {}\n",
    "      dic[\"points\"] = [[x1,y1], [x2,y2], [x3,y3], [x4,y4]]  \n",
    "      dic[\"transcription\"] = str(text)\n",
    "      lis.append(dic)\n",
    "      x1,y1,x2,y2,x3,y3,x4,y4 = int(x1), int(y1), int(x2), int(y2), int(x3), int(y3), int(x4), int(x4)\n",
    "      pts = np.asarray([(x1,y1), (x2,y2), (x3,y3), (x4,y4)])\n",
    "      img = cv2.imread(img_path)\n",
    "      warped = perspective.four_point_transform(img, pts)\n",
    "      new_img_path = \"./crnn_test/img_\"+str(img_counter)+\".png\"\n",
    "      cv2.imwrite(new_img_path, warped)\n",
    "      with open(\"rec_test.txt\", \"a\") as ob:\n",
    "        ob.write(new_img_path.replace(\"crnn_test\",\".\")+\"\\t\"+text+\"\\n\")\n",
    "      img_counter = img_counter + 1\n",
    "    except:\n",
    "      flag = 0\n",
    "  if(flag == 0):\n",
    "    flag = 1\n",
    "    continue\n",
    "  count = count + 1\n",
    "print(\"Total number of Annotations created for Test/Eval are \", count)"
   ]
  },
  {
   "cell_type": "code",
   "execution_count": 38,
   "metadata": {},
   "outputs": [
    {
     "data": {
      "text/plain": [
       "'Total-Text/Test\\\\img99.jpg'"
      ]
     },
     "execution_count": 38,
     "metadata": {},
     "output_type": "execute_result"
    }
   ],
   "source": [
    "img_path"
   ]
  },
  {
   "cell_type": "code",
   "execution_count": 147,
   "metadata": {},
   "outputs": [
    {
     "data": {
      "text/plain": [
       "'c:\\\\Users\\\\Bambang Hartono S\\\\Documents\\\\PaddleOCR\\\\pretrain_models/en_PP-OCRv4_rec_train.tar'"
      ]
     },
     "execution_count": 147,
     "metadata": {},
     "output_type": "execute_result"
    }
   ],
   "source": [
    "import wget\n",
    "wget.download(\"https://paddleocr.bj.bcebos.com/PP-OCRv4/english/en_PP-OCRv4_rec_train.tar\", \"c:\\\\Users\\\\Bambang Hartono S\\\\Documents\\\\PaddleOCR\\\\pretrain_models\" )"
   ]
  },
  {
   "cell_type": "code",
   "execution_count": 151,
   "metadata": {},
   "outputs": [
    {
     "name": "stdout",
     "output_type": "stream",
     "text": [
      "[2023/12/15 11:38:41] ppocr INFO: Architecture : \n",
      "[2023/12/15 11:38:41] ppocr INFO:     Backbone : \n",
      "[2023/12/15 11:38:41] ppocr INFO:         name : PPLCNetV3\n",
      "[2023/12/15 11:38:41] ppocr INFO:         scale : 0.95\n",
      "[2023/12/15 11:38:41] ppocr INFO:     Head : \n",
      "[2023/12/15 11:38:41] ppocr INFO:         head_list : \n",
      "[2023/12/15 11:38:41] ppocr INFO:             CTCHead : \n",
      "[2023/12/15 11:38:41] ppocr INFO:                 Head : \n",
      "[2023/12/15 11:38:41] ppocr INFO:                     fc_decay : 1e-05\n",
      "[2023/12/15 11:38:41] ppocr INFO:                 Neck : \n",
      "[2023/12/15 11:38:41] ppocr INFO:                     depth : 2\n",
      "[2023/12/15 11:38:41] ppocr INFO:                     dims : 120\n",
      "[2023/12/15 11:38:41] ppocr INFO:                     hidden_dims : 120\n",
      "[2023/12/15 11:38:41] ppocr INFO:                     kernel_size : [1, 3]\n",
      "[2023/12/15 11:38:41] ppocr INFO:                     name : svtr\n",
      "[2023/12/15 11:38:41] ppocr INFO:                     use_guide : True\n",
      "[2023/12/15 11:38:41] ppocr INFO:             NRTRHead : \n",
      "[2023/12/15 11:38:41] ppocr INFO:                 max_text_length : 25\n",
      "[2023/12/15 11:38:41] ppocr INFO:                 nrtr_dim : 384\n",
      "[2023/12/15 11:38:41] ppocr INFO:         name : MultiHead\n",
      "[2023/12/15 11:38:41] ppocr INFO:     Transform : None\n",
      "[2023/12/15 11:38:41] ppocr INFO:     algorithm : SVTR_LCNet\n",
      "[2023/12/15 11:38:41] ppocr INFO:     model_type : rec\n",
      "[2023/12/15 11:38:41] ppocr INFO: Eval : \n",
      "[2023/12/15 11:38:41] ppocr INFO:     dataset : \n",
      "[2023/12/15 11:38:41] ppocr INFO:         data_dir : ./crnn_test/\n",
      "[2023/12/15 11:38:41] ppocr INFO:         label_file_list : ['rec_test.txt']\n",
      "[2023/12/15 11:38:41] ppocr INFO:         name : SimpleDataSet\n",
      "[2023/12/15 11:38:41] ppocr INFO:         transforms : \n",
      "[2023/12/15 11:38:41] ppocr INFO:             DecodeImage : \n",
      "[2023/12/15 11:38:41] ppocr INFO:                 channel_first : False\n",
      "[2023/12/15 11:38:41] ppocr INFO:                 img_mode : BGR\n",
      "[2023/12/15 11:38:41] ppocr INFO:             MultiLabelEncode : \n",
      "[2023/12/15 11:38:41] ppocr INFO:                 gtc_encode : NRTRLabelEncode\n",
      "[2023/12/15 11:38:41] ppocr INFO:             RecResizeImg : \n",
      "[2023/12/15 11:38:41] ppocr INFO:                 image_shape : [3, 48, 320]\n",
      "[2023/12/15 11:38:41] ppocr INFO:             KeepKeys : \n",
      "[2023/12/15 11:38:41] ppocr INFO:                 keep_keys : ['image', 'label_ctc', 'label_gtc', 'length', 'valid_ratio']\n",
      "[2023/12/15 11:38:41] ppocr INFO:     loader : \n",
      "[2023/12/15 11:38:41] ppocr INFO:         batch_size_per_card : 8\n",
      "[2023/12/15 11:38:41] ppocr INFO:         drop_last : False\n",
      "[2023/12/15 11:38:41] ppocr INFO:         num_workers : 4\n",
      "[2023/12/15 11:38:41] ppocr INFO:         shuffle : False\n",
      "[2023/12/15 11:38:41] ppocr INFO: Global : \n",
      "[2023/12/15 11:38:41] ppocr INFO:     cal_metric_during_train : False\n",
      "[2023/12/15 11:38:41] ppocr INFO:     character_dict_path : ppocr/utils/en_dict.txt\n",
      "[2023/12/15 11:38:41] ppocr INFO:     checkpoints : None\n",
      "[2023/12/15 11:38:41] ppocr INFO:     debug : False\n",
      "[2023/12/15 11:38:41] ppocr INFO:     distributed : False\n",
      "[2023/12/15 11:38:41] ppocr INFO:     epoch_num : 5\n",
      "[2023/12/15 11:38:41] ppocr INFO:     eval_batch_step : [0, 8]\n",
      "[2023/12/15 11:38:41] ppocr INFO:     infer_img : doc/imgs_words/ch/word_1.jpg\n",
      "[2023/12/15 11:38:41] ppocr INFO:     infer_mode : False\n",
      "[2023/12/15 11:38:41] ppocr INFO:     log_smooth_window : 20\n",
      "[2023/12/15 11:38:41] ppocr INFO:     max_text_length : 25\n",
      "[2023/12/15 11:38:41] ppocr INFO:     pretrained_model : ./pretrain_models/en_PP-OCRv4_rec_train/best_accuracy\n",
      "[2023/12/15 11:38:41] ppocr INFO:     print_batch_step : 10\n",
      "[2023/12/15 11:38:41] ppocr INFO:     save_epoch_step : 10\n",
      "[2023/12/15 11:38:41] ppocr INFO:     save_inference_dir : None\n",
      "[2023/12/15 11:38:41] ppocr INFO:     save_model_dir : ./output/rec_ppocr_v4\n",
      "[2023/12/15 11:38:41] ppocr INFO:     save_res_path : ./output/rec/predicts_ppocrv3.txt\n",
      "[2023/12/15 11:38:41] ppocr INFO:     use_gpu : False\n",
      "[2023/12/15 11:38:41] ppocr INFO:     use_space_char : True\n",
      "[2023/12/15 11:38:41] ppocr INFO:     use_visualdl : False\n",
      "[2023/12/15 11:38:41] ppocr INFO: Loss : \n",
      "[2023/12/15 11:38:41] ppocr INFO:     loss_config_list : \n",
      "[2023/12/15 11:38:41] ppocr INFO:         CTCLoss : None\n",
      "[2023/12/15 11:38:41] ppocr INFO:         NRTRLoss : None\n",
      "[2023/12/15 11:38:41] ppocr INFO:     name : MultiLoss\n",
      "[2023/12/15 11:38:41] ppocr INFO: Metric : \n",
      "[2023/12/15 11:38:41] ppocr INFO:     ignore_space : False\n",
      "[2023/12/15 11:38:41] ppocr INFO:     main_indicator : acc\n",
      "[2023/12/15 11:38:41] ppocr INFO:     name : RecMetric\n",
      "[2023/12/15 11:38:41] ppocr INFO: Optimizer : \n",
      "[2023/12/15 11:38:41] ppocr INFO:     beta1 : 0.9\n",
      "[2023/12/15 11:38:41] ppocr INFO:     beta2 : 0.999\n",
      "[2023/12/15 11:38:41] ppocr INFO:     lr : \n",
      "[2023/12/15 11:38:41] ppocr INFO:         learning_rate : 0.0005\n",
      "[2023/12/15 11:38:41] ppocr INFO:         name : Cosine\n",
      "[2023/12/15 11:38:41] ppocr INFO:         warmup_epoch : 5\n",
      "[2023/12/15 11:38:41] ppocr INFO:     name : Adam\n",
      "[2023/12/15 11:38:41] ppocr INFO:     regularizer : \n",
      "[2023/12/15 11:38:41] ppocr INFO:         factor : 3e-05\n",
      "[2023/12/15 11:38:41] ppocr INFO:         name : L2\n",
      "[2023/12/15 11:38:41] ppocr INFO: PostProcess : \n",
      "[2023/12/15 11:38:41] ppocr INFO:     name : CTCLabelDecode\n",
      "[2023/12/15 11:38:41] ppocr INFO: Train : \n",
      "[2023/12/15 11:38:41] ppocr INFO:     dataset : \n",
      "[2023/12/15 11:38:41] ppocr INFO:         data_dir : ./crnn_train/\n",
      "[2023/12/15 11:38:41] ppocr INFO:         ds_width : False\n",
      "[2023/12/15 11:38:41] ppocr INFO:         ext_op_transform_idx : 1\n",
      "[2023/12/15 11:38:41] ppocr INFO:         label_file_list : ['rec_train.txt']\n",
      "[2023/12/15 11:38:41] ppocr INFO:         name : MultiScaleDataSet\n",
      "[2023/12/15 11:38:41] ppocr INFO:         transforms : \n",
      "[2023/12/15 11:38:41] ppocr INFO:             DecodeImage : \n",
      "[2023/12/15 11:38:41] ppocr INFO:                 channel_first : False\n",
      "[2023/12/15 11:38:41] ppocr INFO:                 img_mode : BGR\n",
      "[2023/12/15 11:38:41] ppocr INFO:             RecConAug : \n",
      "[2023/12/15 11:38:41] ppocr INFO:                 ext_data_num : 2\n",
      "[2023/12/15 11:38:41] ppocr INFO:                 image_shape : [48, 320, 3]\n",
      "[2023/12/15 11:38:41] ppocr INFO:                 max_text_length : 25\n",
      "[2023/12/15 11:38:41] ppocr INFO:                 prob : 0.5\n",
      "[2023/12/15 11:38:41] ppocr INFO:             RecAug : None\n",
      "[2023/12/15 11:38:41] ppocr INFO:             MultiLabelEncode : \n",
      "[2023/12/15 11:38:41] ppocr INFO:                 gtc_encode : NRTRLabelEncode\n",
      "[2023/12/15 11:38:41] ppocr INFO:             KeepKeys : \n",
      "[2023/12/15 11:38:41] ppocr INFO:                 keep_keys : ['image', 'label_ctc', 'label_gtc', 'length', 'valid_ratio']\n",
      "[2023/12/15 11:38:41] ppocr INFO:     loader : \n",
      "[2023/12/15 11:38:41] ppocr INFO:         batch_size_per_card : 8\n",
      "[2023/12/15 11:38:41] ppocr INFO:         drop_last : True\n",
      "[2023/12/15 11:38:41] ppocr INFO:         num_workers : 8\n",
      "[2023/12/15 11:38:41] ppocr INFO:         shuffle : True\n",
      "[2023/12/15 11:38:41] ppocr INFO:     sampler : \n",
      "[2023/12/15 11:38:41] ppocr INFO:         divided_factor : [8, 16]\n",
      "[2023/12/15 11:38:41] ppocr INFO:         first_bs : 96\n",
      "[2023/12/15 11:38:41] ppocr INFO:         fix_bs : False\n",
      "[2023/12/15 11:38:41] ppocr INFO:         is_training : True\n",
      "[2023/12/15 11:38:41] ppocr INFO:         name : MultiScaleSampler\n",
      "[2023/12/15 11:38:41] ppocr INFO:         scales : [[320, 32], [320, 48], [320, 64]]\n",
      "[2023/12/15 11:38:41] ppocr INFO: profiler_options : None\n",
      "[2023/12/15 11:38:41] ppocr INFO: train with paddle 2.5.2 and device Place(cpu)\n",
      "[2023/12/15 11:38:41] ppocr INFO: Initialize indexs of datasets:['rec_train.txt']\n",
      "list index out of range\n",
      "[2023/12/15 11:38:41] ppocr INFO: Initialize indexs of datasets:['rec_test.txt']\n",
      "[2023/12/15 11:38:42] ppocr INFO: train dataloader has 3 iters\n",
      "[2023/12/15 11:38:42] ppocr INFO: valid dataloader has 5 iters\n",
      "[2023/12/15 11:38:43] ppocr INFO: load pretrain successful from ./pretrain_models/en_PP-OCRv4_rec_train/best_accuracy\n",
      "[2023/12/15 11:38:43] ppocr INFO: During the training process, after the 0th iteration, an evaluation is run every 8 iterations\n",
      "[2023/12/15 11:56:28] ppocr INFO: save model in ./output/rec_ppocr_v4\\latest\n",
      "[2023/12/15 12:13:23] ppocr INFO: save model in ./output/rec_ppocr_v4\\latest\n",
      "[2023/12/15 12:28:07] ppocr INFO: save model in ./output/rec_ppocr_v4\\latest\n",
      "[2023/12/15 12:44:04] ppocr INFO: cur metric, acc: 0.0624999804687561, norm_edit_dis: 0.1671257563049473, fps: 1.7158774817682054\n",
      "[2023/12/15 12:44:14] ppocr INFO: save best model is to ./output/rec_ppocr_v4\\best_accuracy\n",
      "[2023/12/15 12:44:14] ppocr INFO: best metric, acc: 0.0624999804687561, is_float16: False, norm_edit_dis: 0.1671257563049473, fps: 1.7158774817682054, best_epoch: 4\n",
      "[2023/12/15 12:44:20] ppocr INFO: save model in ./output/rec_ppocr_v4\\latest\n",
      "[2023/12/15 13:00:10] ppocr INFO: epoch: [5/5], global_step: 10, lr: 0.000150, CTCLoss: 65.430267, NRTRLoss: 3.487378, loss: 68.971241, avg_reader_cost: 4.49277 s, avg_batch_cost: 485.76888 s, avg_samples: 67.2, ips: 0.13834 samples/s, eta: 0:08:05\n",
      "[2023/12/15 13:00:10] ppocr INFO: save model in ./output/rec_ppocr_v4\\latest\n",
      "[2023/12/15 13:00:10] ppocr INFO: best metric, acc: 0.0624999804687561, is_float16: False, norm_edit_dis: 0.1671257563049473, fps: 1.7158774817682054, best_epoch: 4\n"
     ]
    },
    {
     "name": "stderr",
     "output_type": "stream",
     "text": [
      "\n",
      "eval model::   0%|          | 0/5 [00:00<?, ?it/s]\n",
      "eval model::  20%|██        | 1/5 [00:05<00:20,  5.08s/it]\n",
      "eval model::  40%|████      | 2/5 [00:09<00:14,  4.75s/it]\n",
      "eval model::  60%|██████    | 3/5 [00:14<00:09,  4.68s/it]\n",
      "eval model::  80%|████████  | 4/5 [00:18<00:04,  4.67s/it]\n",
      "eval model::  80%|████████  | 4/5 [00:18<00:04,  4.72s/it]\n"
     ]
    }
   ],
   "source": [
    "!python tools/train.py -c configs/rec/PP-OCRv4/en_PP-OCRv4_rec.yml -o Global.pretrained_model=./pretrain_models/en_PP-OCRv4_rec_train/best_accuracy"
   ]
  },
  {
   "cell_type": "markdown",
   "metadata": {},
   "source": [
    "# Converting Trained Weights to Inference Weights"
   ]
  },
  {
   "cell_type": "code",
   "execution_count": 153,
   "metadata": {},
   "outputs": [
    {
     "name": "stdout",
     "output_type": "stream",
     "text": [
      "[2023/12/15 13:36:57] ppocr INFO: load pretrain successful from output/rec_ppocr_v4/best_accuracy\n",
      "[2023/12/15 13:37:05] ppocr INFO: inference model is saved to ./inference/en_PP-OCRv4_rec/inference\n"
     ]
    },
    {
     "name": "stderr",
     "output_type": "stream",
     "text": [
      "I1215 13:37:04.636739 12356 interpretercore.cc:237] New Executor is Running.\n"
     ]
    }
   ],
   "source": [
    "#Conversion of Recognizer Trained weights to Inference\n",
    "\n",
    "!python tools/export_model.py -c configs/rec/PP-OCRv4/en_PP-OCRv4_rec.yml -o Global.pretrained_model=output/rec_ppocr_v4/best_accuracy  Global.save_inference_dir=./inference/en_PP-OCRv4_rec/"
   ]
  },
  {
   "cell_type": "code",
   "execution_count": 47,
   "metadata": {},
   "outputs": [
    {
     "name": "stderr",
     "output_type": "stream",
     "text": [
      "I1215 10:32:08.582579 23560 interpretercore.cc:237] New Executor is Running.\n"
     ]
    },
    {
     "name": "stdout",
     "output_type": "stream",
     "text": [
      "[2023/12/15 10:32:04] ppocr INFO: load pretrain successful from ./output/db_mv3/latest\n",
      "[2023/12/15 10:32:09] ppocr INFO: inference model is saved to /output/det_db_inference/inference\n"
     ]
    }
   ],
   "source": [
    "#conversion of Detection Trained Weights to Inference\n",
    "\n",
    "!python tools/export_model.py -c configs/det/det_mv3_db.yml -o Global.pretrained_model=./output/db_mv3/latest Global.save_inference_dir=/output/det_db_inference/"
   ]
  },
  {
   "cell_type": "markdown",
   "metadata": {},
   "source": [
    "# Inference using Custom Weights in PyPi Version"
   ]
  },
  {
   "cell_type": "code",
   "execution_count": 154,
   "metadata": {},
   "outputs": [],
   "source": [
    "from paddleocr import PaddleOCR,draw_ocr\n",
    "from PIL import Image"
   ]
  },
  {
   "cell_type": "code",
   "execution_count": 155,
   "metadata": {},
   "outputs": [
    {
     "name": "stdout",
     "output_type": "stream",
     "text": [
      "download https://paddleocr.bj.bcebos.com/PP-OCRv4/chinese/ch_PP-OCRv4_det_infer.tar to C:\\Users\\Bambang Hartono S/.paddleocr/whl\\det\\ch\\ch_PP-OCRv4_det_infer\\ch_PP-OCRv4_det_infer.tar\n"
     ]
    },
    {
     "name": "stderr",
     "output_type": "stream",
     "text": [
      "100%|██████████| 4.89M/4.89M [00:02<00:00, 2.20MiB/s]\n"
     ]
    },
    {
     "name": "stdout",
     "output_type": "stream",
     "text": [
      "download https://paddleocr.bj.bcebos.com/PP-OCRv4/chinese/ch_PP-OCRv4_rec_infer.tar to PaddleOCR/inference/en_PP-OCRv4_rec\\ch_PP-OCRv4_rec_infer.tar\n"
     ]
    },
    {
     "name": "stderr",
     "output_type": "stream",
     "text": [
      "100%|██████████| 11.0M/11.0M [00:05<00:00, 2.04MiB/s]\n"
     ]
    }
   ],
   "source": [
    "#Loading the detector and ocr with the previously trained weights\n",
    "custom_ocr = PaddleOCR(use_angle_cls=True,\n",
    "                rec_model_dir='PaddleOCR/inference/en_PP-OCRv4_rec',\n",
    "                # det_model_dir='PaddleOCR/output/det_db_inference', \n",
    "                # rec_char_dict_path='ppocr/utils/dict/chinese_cht_dict.txt',\n",
    "                use_gpu=False,\n",
    "                show_log=False)"
   ]
  },
  {
   "cell_type": "code",
   "execution_count": 156,
   "metadata": {},
   "outputs": [],
   "source": [
    "ocr = PaddleOCR(use_angle_cls=True, lang=\"en\")"
   ]
  },
  {
   "cell_type": "code",
   "execution_count": 157,
   "metadata": {},
   "outputs": [
    {
     "data": {
      "text/plain": [
       "<matplotlib.image.AxesImage at 0x2e6308d85b0>"
      ]
     },
     "execution_count": 157,
     "metadata": {},
     "output_type": "execute_result"
    },
    {
     "data": {
      "image/png": "[encoded data removed]",
      "text/plain": [
       "<Figure size 640x480 with 1 Axes>"
      ]
     },
     "metadata": {},
     "output_type": "display_data"
    }
   ],
   "source": [
    "img_path = \"img_test.png\"\n",
    "img = cv2.imread(img_path)\n",
    "plt.imshow(img)"
   ]
  },
  {
   "cell_type": "code",
   "execution_count": 160,
   "metadata": {},
   "outputs": [],
   "source": [
    "result = ocr.ocr(img)"
   ]
  },
  {
   "cell_type": "code",
   "execution_count": 161,
   "metadata": {},
   "outputs": [
    {
     "data": {
      "text/plain": [
       "[[[[[190.0, 5.0], [582.0, 5.0], [582.0, 28.0], [190.0, 28.0]],\n",
       "   ('VECTORTEXTEFFECT', 0.996404230594635)],\n",
       "  [[[181.0, 371.0], [595.0, 371.0], [595.0, 388.0], [181.0, 388.0]],\n",
       "   ('FULLYEDITABLE ANDSCALABLE', 0.9769677519798279)],\n",
       "  [[[243.0, 390.0], [533.0, 390.0], [533.0, 403.0], [243.0, 403.0]],\n",
       "   ('Words, fonts and sizes can be changed easily.', 0.944884181022644)]]]"
      ]
     },
     "execution_count": 161,
     "metadata": {},
     "output_type": "execute_result"
    }
   ],
   "source": [
    "result"
   ]
  },
  {
   "cell_type": "code",
   "execution_count": 127,
   "metadata": {},
   "outputs": [
    {
     "ename": "TypeError",
     "evalue": "'<' not supported between instances of 'tuple' and 'float'",
     "output_type": "error",
     "traceback": [
      "\u001b[1;31m---------------------------------------------------------------------------\u001b[0m",
      "\u001b[1;31mTypeError\u001b[0m                                 Traceback (most recent call last)",
      "Input \u001b[1;32mIn [127]\u001b[0m, in \u001b[0;36m<cell line: 6>\u001b[1;34m()\u001b[0m\n\u001b[0;32m      4\u001b[0m txts \u001b[38;5;241m=\u001b[39m [line[\u001b[38;5;241m1\u001b[39m][\u001b[38;5;241m0\u001b[39m] \u001b[38;5;28;01mfor\u001b[39;00m line \u001b[38;5;129;01min\u001b[39;00m result]\n\u001b[0;32m      5\u001b[0m scores \u001b[38;5;241m=\u001b[39m [line[\u001b[38;5;241m1\u001b[39m][\u001b[38;5;241m1\u001b[39m] \u001b[38;5;28;01mfor\u001b[39;00m line \u001b[38;5;129;01min\u001b[39;00m result]\n\u001b[1;32m----> 6\u001b[0m im_show \u001b[38;5;241m=\u001b[39m \u001b[43mdraw_ocr\u001b[49m\u001b[43m(\u001b[49m\u001b[43mimage\u001b[49m\u001b[43m,\u001b[49m\u001b[43m \u001b[49m\u001b[43mboxes\u001b[49m\u001b[43m,\u001b[49m\u001b[43m \u001b[49m\u001b[43mtxts\u001b[49m\u001b[43m,\u001b[49m\u001b[43m \u001b[49m\u001b[43mscores\u001b[49m\u001b[43m,\u001b[49m\u001b[43m \u001b[49m\u001b[43mfont_path\u001b[49m\u001b[38;5;241;43m=\u001b[39;49m\u001b[38;5;124;43m'\u001b[39;49m\u001b[38;5;124;43m./doc/fonts/simfang.ttf\u001b[39;49m\u001b[38;5;124;43m'\u001b[39;49m\u001b[43m)\u001b[49m\n\u001b[0;32m      7\u001b[0m im_show \u001b[38;5;241m=\u001b[39m Image\u001b[38;5;241m.\u001b[39mfromarray(im_show)\n\u001b[0;32m      8\u001b[0m im_show\u001b[38;5;241m.\u001b[39msave(\u001b[38;5;124m'\u001b[39m\u001b[38;5;124mresult.jpg\u001b[39m\u001b[38;5;124m'\u001b[39m)\n",
      "File \u001b[1;32mc:\\Users\\Bambang Hartono S\\Documents\\PaddleOCR\\tools\\infer\\utility.py:387\u001b[0m, in \u001b[0;36mdraw_ocr\u001b[1;34m(image, boxes, txts, scores, drop_score, font_path)\u001b[0m\n\u001b[0;32m    385\u001b[0m box_num \u001b[38;5;241m=\u001b[39m \u001b[38;5;28mlen\u001b[39m(boxes)\n\u001b[0;32m    386\u001b[0m \u001b[38;5;28;01mfor\u001b[39;00m i \u001b[38;5;129;01min\u001b[39;00m \u001b[38;5;28mrange\u001b[39m(box_num):\n\u001b[1;32m--> 387\u001b[0m     \u001b[38;5;28;01mif\u001b[39;00m scores \u001b[38;5;129;01mis\u001b[39;00m \u001b[38;5;129;01mnot\u001b[39;00m \u001b[38;5;28;01mNone\u001b[39;00m \u001b[38;5;129;01mand\u001b[39;00m (\u001b[43mscores\u001b[49m\u001b[43m[\u001b[49m\u001b[43mi\u001b[49m\u001b[43m]\u001b[49m\u001b[43m \u001b[49m\u001b[38;5;241;43m<\u001b[39;49m\u001b[43m \u001b[49m\u001b[43mdrop_score\u001b[49m \u001b[38;5;129;01mor\u001b[39;00m\n\u001b[0;32m    388\u001b[0m                                math\u001b[38;5;241m.\u001b[39misnan(scores[i])):\n\u001b[0;32m    389\u001b[0m         \u001b[38;5;28;01mcontinue\u001b[39;00m\n\u001b[0;32m    390\u001b[0m     box \u001b[38;5;241m=\u001b[39m np\u001b[38;5;241m.\u001b[39mreshape(np\u001b[38;5;241m.\u001b[39marray(boxes[i]), [\u001b[38;5;241m-\u001b[39m\u001b[38;5;241m1\u001b[39m, \u001b[38;5;241m1\u001b[39m, \u001b[38;5;241m2\u001b[39m])\u001b[38;5;241m.\u001b[39mastype(np\u001b[38;5;241m.\u001b[39mint64)\n",
      "\u001b[1;31mTypeError\u001b[0m: '<' not supported between instances of 'tuple' and 'float'"
     ]
    }
   ],
   "source": [
    "# draw result\n",
    "image = Image.open(img_path).convert('RGB')\n",
    "boxes = [line[0][0] for line in result]\n",
    "txts = [line[1][0] for line in result]\n",
    "scores = [line[1][1] for line in result]\n",
    "im_show = draw_ocr(image, boxes, txts, scores, font_path='./doc/fonts/simfang.ttf')\n",
    "im_show = Image.fromarray(im_show)\n",
    "im_show.save('result.jpg')"
   ]
  },
  {
   "cell_type": "code",
   "execution_count": 128,
   "metadata": {},
   "outputs": [
    {
     "data": {
      "text/plain": [
       "[[[190.0, 5.0], [582.0, 5.0], [582.0, 28.0], [190.0, 28.0]]]"
      ]
     },
     "execution_count": 128,
     "metadata": {},
     "output_type": "execute_result"
    }
   ],
   "source": [
    "boxes"
   ]
  },
  {
   "cell_type": "code",
   "execution_count": null,
   "metadata": {},
   "outputs": [],
   "source": []
  }
 ],
 "metadata": {
  "kernelspec": {
   "display_name": "Python 3 (ipykernel)",
   "language": "python",
   "name": "python3"
  },
  "language_info": {
   "codemirror_mode": {
    "name": "ipython",
    "version": 3
   },
   "file_extension": ".py",
   "mimetype": "text/x-python",
   "name": "python",
   "nbconvert_exporter": "python",
   "pygments_lexer": "ipython3",
   "version": "3.8.8"
  },
  "vscode": {
   "interpreter": {
    "hash": "392aba1e9c9196c80640004610f5e89820f47483f0af58adad6e34909e2a3a8b"
   }
  }
 },
 "nbformat": 4,
 "nbformat_minor": 2
}
